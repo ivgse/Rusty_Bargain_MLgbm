{
 "cells": [
  {
   "cell_type": "markdown",
   "metadata": {},
   "source": [
    "El servicio de venta de autos usados Rusty Bargain está desarrollando una aplicación para atraer nuevos clientes. Gracias a esa app, puedes averiguar rápidamente el valor de mercado de tu coche. Tienes acceso al historial: especificaciones técnicas, versiones de equipamiento y precios. Tienes que crear un modelo que determine el valor de mercado.\n",
    "A Rusty Bargain le interesa:\n",
    "- la calidad de la predicción;\n",
    "- la velocidad de la predicción;\n",
    "- el tiempo requerido para el entrenamiento"
   ]
  },
  {
   "cell_type": "markdown",
   "metadata": {},
   "source": [
    "## Preparación de datos"
   ]
  },
  {
   "cell_type": "code",
   "execution_count": 22,
   "metadata": {},
   "outputs": [],
   "source": [
    "import pandas as pd #Manipular Datasets\n",
    "import numpy as np #Manipular Datos y operaciones\n",
    "import seaborn as sb #Pairplot\n",
    "import matplotlib #Graficas\n",
    "#Machine Learning\n",
    "from sklearn.metrics import mean_squared_error as mse\n",
    "from sklearn.linear_model import LinearRegression \n",
    "from sklearn.model_selection import train_test_split, cross_val_score\n",
    "from sklearn.preprocessing import StandardScaler, OneHotEncoder, OrdinalEncoder\n",
    "from sklearn.ensemble import RandomForestRegressor\n",
    "#Potenciación\n",
    "import lightgbm as lgb\n",
    "from catboost import CatBoostRegressor as CBR\n",
    "#Calculos temporales\n",
    "import time\n",
    "\n",
    "\n",
    "cars = pd.read_csv('/datasets/car_data.csv')\n"
   ]
  },
  {
   "cell_type": "code",
   "execution_count": 2,
   "metadata": {},
   "outputs": [
    {
     "name": "stdout",
     "output_type": "stream",
     "text": [
      "<class 'pandas.core.frame.DataFrame'>\n",
      "RangeIndex: 354369 entries, 0 to 354368\n",
      "Data columns (total 16 columns):\n",
      " #   Column             Non-Null Count   Dtype \n",
      "---  ------             --------------   ----- \n",
      " 0   DateCrawled        354369 non-null  object\n",
      " 1   Price              354369 non-null  int64 \n",
      " 2   VehicleType        316879 non-null  object\n",
      " 3   RegistrationYear   354369 non-null  int64 \n",
      " 4   Gearbox            334536 non-null  object\n",
      " 5   Power              354369 non-null  int64 \n",
      " 6   Model              334664 non-null  object\n",
      " 7   Mileage            354369 non-null  int64 \n",
      " 8   RegistrationMonth  354369 non-null  int64 \n",
      " 9   FuelType           321474 non-null  object\n",
      " 10  Brand              354369 non-null  object\n",
      " 11  NotRepaired        283215 non-null  object\n",
      " 12  DateCreated        354369 non-null  object\n",
      " 13  NumberOfPictures   354369 non-null  int64 \n",
      " 14  PostalCode         354369 non-null  int64 \n",
      " 15  LastSeen           354369 non-null  object\n",
      "dtypes: int64(7), object(9)\n",
      "memory usage: 43.3+ MB\n"
     ]
    }
   ],
   "source": [
    "cars.info()"
   ]
  },
  {
   "cell_type": "code",
   "execution_count": 3,
   "metadata": {},
   "outputs": [
    {
     "data": {
      "text/html": [
       "<div>\n",
       "<style scoped>\n",
       "    .dataframe tbody tr th:only-of-type {\n",
       "        vertical-align: middle;\n",
       "    }\n",
       "\n",
       "    .dataframe tbody tr th {\n",
       "        vertical-align: top;\n",
       "    }\n",
       "\n",
       "    .dataframe thead th {\n",
       "        text-align: right;\n",
       "    }\n",
       "</style>\n",
       "<table border=\"1\" class=\"dataframe\">\n",
       "  <thead>\n",
       "    <tr style=\"text-align: right;\">\n",
       "      <th></th>\n",
       "      <th>DateCrawled</th>\n",
       "      <th>Price</th>\n",
       "      <th>VehicleType</th>\n",
       "      <th>RegistrationYear</th>\n",
       "      <th>Gearbox</th>\n",
       "      <th>Power</th>\n",
       "      <th>Model</th>\n",
       "      <th>Mileage</th>\n",
       "      <th>RegistrationMonth</th>\n",
       "      <th>FuelType</th>\n",
       "      <th>Brand</th>\n",
       "      <th>NotRepaired</th>\n",
       "      <th>DateCreated</th>\n",
       "      <th>NumberOfPictures</th>\n",
       "      <th>PostalCode</th>\n",
       "      <th>LastSeen</th>\n",
       "    </tr>\n",
       "  </thead>\n",
       "  <tbody>\n",
       "    <tr>\n",
       "      <th>76303</th>\n",
       "      <td>01/04/2016 13:45</td>\n",
       "      <td>1300</td>\n",
       "      <td>small</td>\n",
       "      <td>2003</td>\n",
       "      <td>manual</td>\n",
       "      <td>60</td>\n",
       "      <td>2_reihe</td>\n",
       "      <td>150000</td>\n",
       "      <td>8</td>\n",
       "      <td>petrol</td>\n",
       "      <td>peugeot</td>\n",
       "      <td>no</td>\n",
       "      <td>01/04/2016 00:00</td>\n",
       "      <td>0</td>\n",
       "      <td>21031</td>\n",
       "      <td>07/04/2016 10:17</td>\n",
       "    </tr>\n",
       "    <tr>\n",
       "      <th>31108</th>\n",
       "      <td>04/04/2016 18:56</td>\n",
       "      <td>5450</td>\n",
       "      <td>small</td>\n",
       "      <td>2008</td>\n",
       "      <td>NaN</td>\n",
       "      <td>45</td>\n",
       "      <td>fortwo</td>\n",
       "      <td>100000</td>\n",
       "      <td>7</td>\n",
       "      <td>gasoline</td>\n",
       "      <td>smart</td>\n",
       "      <td>no</td>\n",
       "      <td>04/04/2016 00:00</td>\n",
       "      <td>0</td>\n",
       "      <td>49090</td>\n",
       "      <td>06/04/2016 21:16</td>\n",
       "    </tr>\n",
       "    <tr>\n",
       "      <th>226533</th>\n",
       "      <td>26/03/2016 23:55</td>\n",
       "      <td>7500</td>\n",
       "      <td>wagon</td>\n",
       "      <td>2005</td>\n",
       "      <td>auto</td>\n",
       "      <td>272</td>\n",
       "      <td>5er</td>\n",
       "      <td>150000</td>\n",
       "      <td>6</td>\n",
       "      <td>gasoline</td>\n",
       "      <td>bmw</td>\n",
       "      <td>no</td>\n",
       "      <td>26/03/2016 00:00</td>\n",
       "      <td>0</td>\n",
       "      <td>92637</td>\n",
       "      <td>05/04/2016 01:17</td>\n",
       "    </tr>\n",
       "    <tr>\n",
       "      <th>13769</th>\n",
       "      <td>05/04/2016 09:56</td>\n",
       "      <td>360</td>\n",
       "      <td>small</td>\n",
       "      <td>1997</td>\n",
       "      <td>manual</td>\n",
       "      <td>75</td>\n",
       "      <td>fiesta</td>\n",
       "      <td>150000</td>\n",
       "      <td>9</td>\n",
       "      <td>petrol</td>\n",
       "      <td>ford</td>\n",
       "      <td>NaN</td>\n",
       "      <td>05/04/2016 00:00</td>\n",
       "      <td>0</td>\n",
       "      <td>45892</td>\n",
       "      <td>07/04/2016 13:17</td>\n",
       "    </tr>\n",
       "    <tr>\n",
       "      <th>349469</th>\n",
       "      <td>15/03/2016 21:37</td>\n",
       "      <td>0</td>\n",
       "      <td>sedan</td>\n",
       "      <td>2005</td>\n",
       "      <td>auto</td>\n",
       "      <td>218</td>\n",
       "      <td>3er</td>\n",
       "      <td>90000</td>\n",
       "      <td>5</td>\n",
       "      <td>petrol</td>\n",
       "      <td>bmw</td>\n",
       "      <td>no</td>\n",
       "      <td>15/03/2016 00:00</td>\n",
       "      <td>0</td>\n",
       "      <td>10409</td>\n",
       "      <td>24/03/2016 16:17</td>\n",
       "    </tr>\n",
       "  </tbody>\n",
       "</table>\n",
       "</div>"
      ],
      "text/plain": [
       "             DateCrawled  Price VehicleType  RegistrationYear Gearbox  Power  \\\n",
       "76303   01/04/2016 13:45   1300       small              2003  manual     60   \n",
       "31108   04/04/2016 18:56   5450       small              2008     NaN     45   \n",
       "226533  26/03/2016 23:55   7500       wagon              2005    auto    272   \n",
       "13769   05/04/2016 09:56    360       small              1997  manual     75   \n",
       "349469  15/03/2016 21:37      0       sedan              2005    auto    218   \n",
       "\n",
       "          Model  Mileage  RegistrationMonth  FuelType    Brand NotRepaired  \\\n",
       "76303   2_reihe   150000                  8    petrol  peugeot          no   \n",
       "31108    fortwo   100000                  7  gasoline    smart          no   \n",
       "226533      5er   150000                  6  gasoline      bmw          no   \n",
       "13769    fiesta   150000                  9    petrol     ford         NaN   \n",
       "349469      3er    90000                  5    petrol      bmw          no   \n",
       "\n",
       "             DateCreated  NumberOfPictures  PostalCode          LastSeen  \n",
       "76303   01/04/2016 00:00                 0       21031  07/04/2016 10:17  \n",
       "31108   04/04/2016 00:00                 0       49090  06/04/2016 21:16  \n",
       "226533  26/03/2016 00:00                 0       92637  05/04/2016 01:17  \n",
       "13769   05/04/2016 00:00                 0       45892  07/04/2016 13:17  \n",
       "349469  15/03/2016 00:00                 0       10409  24/03/2016 16:17  "
      ]
     },
     "execution_count": 3,
     "metadata": {},
     "output_type": "execute_result"
    }
   ],
   "source": [
    "cars.sample(5)"
   ]
  },
  {
   "cell_type": "code",
   "execution_count": 4,
   "metadata": {},
   "outputs": [],
   "source": [
    "#cars['Model'].unique()\n",
    "#othermodel= cars['Model']=='other'\n",
    "#cars['Model'].isna().value_counts()"
   ]
  },
  {
   "cell_type": "code",
   "execution_count": 5,
   "metadata": {},
   "outputs": [],
   "source": [
    "cars['VehicleType'].fillna('unknown', inplace=True) #Creamos un valor para los desconocidos\n",
    "cars['Gearbox'].fillna('manual', inplace=True) #Se llena con el valor más repetido\n",
    "cars['Model'].fillna('unknown', inplace=True) #Creamos un valor para los desconocidos\n",
    "cars['FuelType'].replace('petrol','gasoline', inplace=True) #Reemplazamos este valor porque son sinonimos\n",
    "cars['FuelType'].fillna('unknown', inplace=True) #Creamos un valor para los desconocidos\n",
    "cars['NotRepaired'].fillna('unknown', inplace=True) #Creamos un valor para los desconocidos"
   ]
  },
  {
   "cell_type": "code",
   "execution_count": 6,
   "metadata": {},
   "outputs": [],
   "source": [
    "# Dropeamos algunas caracteristicas que no son relevantes para el analisis\n",
    "cars.drop(['DateCrawled','RegistrationMonth','DateCreated','LastSeen'], axis= 1, inplace= True)\n",
    "#El mes de registro se dropea porque generalmente lo relevante es el año del vehiculo"
   ]
  },
  {
   "cell_type": "code",
   "execution_count": 7,
   "metadata": {},
   "outputs": [
    {
     "name": "stdout",
     "output_type": "stream",
     "text": [
      "<class 'pandas.core.frame.DataFrame'>\n",
      "RangeIndex: 354369 entries, 0 to 354368\n",
      "Data columns (total 12 columns):\n",
      " #   Column            Non-Null Count   Dtype \n",
      "---  ------            --------------   ----- \n",
      " 0   Price             354369 non-null  int64 \n",
      " 1   VehicleType       354369 non-null  object\n",
      " 2   RegistrationYear  354369 non-null  int64 \n",
      " 3   Gearbox           354369 non-null  object\n",
      " 4   Power             354369 non-null  int64 \n",
      " 5   Model             354369 non-null  object\n",
      " 6   Mileage           354369 non-null  int64 \n",
      " 7   FuelType          354369 non-null  object\n",
      " 8   Brand             354369 non-null  object\n",
      " 9   NotRepaired       354369 non-null  object\n",
      " 10  NumberOfPictures  354369 non-null  int64 \n",
      " 11  PostalCode        354369 non-null  int64 \n",
      "dtypes: int64(6), object(6)\n",
      "memory usage: 32.4+ MB\n"
     ]
    }
   ],
   "source": [
    "cars.info() #Confirmamos df sin na"
   ]
  },
  {
   "cell_type": "code",
   "execution_count": 8,
   "metadata": {},
   "outputs": [
    {
     "data": {
      "text/html": [
       "<div>\n",
       "<style scoped>\n",
       "    .dataframe tbody tr th:only-of-type {\n",
       "        vertical-align: middle;\n",
       "    }\n",
       "\n",
       "    .dataframe tbody tr th {\n",
       "        vertical-align: top;\n",
       "    }\n",
       "\n",
       "    .dataframe thead th {\n",
       "        text-align: right;\n",
       "    }\n",
       "</style>\n",
       "<table border=\"1\" class=\"dataframe\">\n",
       "  <thead>\n",
       "    <tr style=\"text-align: right;\">\n",
       "      <th></th>\n",
       "      <th>Price</th>\n",
       "      <th>RegistrationYear</th>\n",
       "      <th>Power</th>\n",
       "      <th>Mileage</th>\n",
       "      <th>NumberOfPictures</th>\n",
       "      <th>PostalCode</th>\n",
       "    </tr>\n",
       "  </thead>\n",
       "  <tbody>\n",
       "    <tr>\n",
       "      <th>count</th>\n",
       "      <td>354369.000000</td>\n",
       "      <td>354369.000000</td>\n",
       "      <td>354369.000000</td>\n",
       "      <td>354369.000000</td>\n",
       "      <td>354369.0</td>\n",
       "      <td>354369.000000</td>\n",
       "    </tr>\n",
       "    <tr>\n",
       "      <th>mean</th>\n",
       "      <td>4416.656776</td>\n",
       "      <td>2004.234448</td>\n",
       "      <td>110.094337</td>\n",
       "      <td>128211.172535</td>\n",
       "      <td>0.0</td>\n",
       "      <td>50508.689087</td>\n",
       "    </tr>\n",
       "    <tr>\n",
       "      <th>std</th>\n",
       "      <td>4514.158514</td>\n",
       "      <td>90.227958</td>\n",
       "      <td>189.850405</td>\n",
       "      <td>37905.341530</td>\n",
       "      <td>0.0</td>\n",
       "      <td>25783.096248</td>\n",
       "    </tr>\n",
       "    <tr>\n",
       "      <th>min</th>\n",
       "      <td>0.000000</td>\n",
       "      <td>1000.000000</td>\n",
       "      <td>0.000000</td>\n",
       "      <td>5000.000000</td>\n",
       "      <td>0.0</td>\n",
       "      <td>1067.000000</td>\n",
       "    </tr>\n",
       "    <tr>\n",
       "      <th>25%</th>\n",
       "      <td>1050.000000</td>\n",
       "      <td>1999.000000</td>\n",
       "      <td>69.000000</td>\n",
       "      <td>125000.000000</td>\n",
       "      <td>0.0</td>\n",
       "      <td>30165.000000</td>\n",
       "    </tr>\n",
       "    <tr>\n",
       "      <th>50%</th>\n",
       "      <td>2700.000000</td>\n",
       "      <td>2003.000000</td>\n",
       "      <td>105.000000</td>\n",
       "      <td>150000.000000</td>\n",
       "      <td>0.0</td>\n",
       "      <td>49413.000000</td>\n",
       "    </tr>\n",
       "    <tr>\n",
       "      <th>75%</th>\n",
       "      <td>6400.000000</td>\n",
       "      <td>2008.000000</td>\n",
       "      <td>143.000000</td>\n",
       "      <td>150000.000000</td>\n",
       "      <td>0.0</td>\n",
       "      <td>71083.000000</td>\n",
       "    </tr>\n",
       "    <tr>\n",
       "      <th>max</th>\n",
       "      <td>20000.000000</td>\n",
       "      <td>9999.000000</td>\n",
       "      <td>20000.000000</td>\n",
       "      <td>150000.000000</td>\n",
       "      <td>0.0</td>\n",
       "      <td>99998.000000</td>\n",
       "    </tr>\n",
       "  </tbody>\n",
       "</table>\n",
       "</div>"
      ],
      "text/plain": [
       "               Price  RegistrationYear          Power        Mileage  \\\n",
       "count  354369.000000     354369.000000  354369.000000  354369.000000   \n",
       "mean     4416.656776       2004.234448     110.094337  128211.172535   \n",
       "std      4514.158514         90.227958     189.850405   37905.341530   \n",
       "min         0.000000       1000.000000       0.000000    5000.000000   \n",
       "25%      1050.000000       1999.000000      69.000000  125000.000000   \n",
       "50%      2700.000000       2003.000000     105.000000  150000.000000   \n",
       "75%      6400.000000       2008.000000     143.000000  150000.000000   \n",
       "max     20000.000000       9999.000000   20000.000000  150000.000000   \n",
       "\n",
       "       NumberOfPictures     PostalCode  \n",
       "count          354369.0  354369.000000  \n",
       "mean                0.0   50508.689087  \n",
       "std                 0.0   25783.096248  \n",
       "min                 0.0    1067.000000  \n",
       "25%                 0.0   30165.000000  \n",
       "50%                 0.0   49413.000000  \n",
       "75%                 0.0   71083.000000  \n",
       "max                 0.0   99998.000000  "
      ]
     },
     "execution_count": 8,
     "metadata": {},
     "output_type": "execute_result"
    }
   ],
   "source": [
    "cars.describe()"
   ]
  },
  {
   "cell_type": "code",
   "execution_count": 9,
   "metadata": {},
   "outputs": [],
   "source": [
    "cars_num= cars[['Price','RegistrationYear','Power','Mileage',\n",
    "    'NumberOfPictures','PostalCode']]\n",
    "data_sample= cars_num.sample(15000)"
   ]
  },
  {
   "cell_type": "code",
   "execution_count": 10,
   "metadata": {},
   "outputs": [],
   "source": [
    "#g = sb.pairplot(data_sample, kind='hist')\n",
    "#g # Buscamos correlaciones visuales"
   ]
  },
  {
   "cell_type": "markdown",
   "metadata": {},
   "source": [
    "<div class=\"alert alert-block alert-success\">\n",
    "<b>Comentario del revisor (1ra Iteracion)</b> <a class=“tocSkip”></a>\n",
    "\n",
    "Muy buen trabajo con el tratamiento y análisis inicial de los datos, siempre en un proyecto lo importante es primero entender los datos con los que se trabajará antes de pasar al modelado\n",
    "</div>"
   ]
  },
  {
   "cell_type": "markdown",
   "metadata": {},
   "source": [
    "## Entrenamiento del modelo "
   ]
  },
  {
   "cell_type": "code",
   "execution_count": 17,
   "metadata": {},
   "outputs": [],
   "source": [
    "#Asignamos target\n",
    "features= cars.drop('Price', axis= 1)\n",
    "target= cars['Price']\n",
    "\n",
    "for col in cat_cols:\n",
    "    features[col]= features[col].astype('category') #Definimos explicitamente para que LightGBM detecte datos categoricos\n",
    "    \n",
    "#Separamos datos para entrenamiento\n",
    "features_train, features_temp, target_train, target_temp = train_test_split(features, target, test_size=.4, random_state= 123)\n",
    "features_test, features_valid, target_test, target_valid = train_test_split(features_temp, target_temp, test_size=.5, random_state= 123)\n",
    "\n",
    "#Identificamos columnas numericas y categoricas\n",
    "cat_cols= ['VehicleType','Gearbox','Model','FuelType','Brand','NotRepaired']\n",
    "num_cols= features_train.select_dtypes(include= np.number).columns.tolist()\n",
    "num_cols= [col for col in num_cols if col not in cat_cols] #Sacamos las columnas numericas que no están en cat_cols\n",
    "\n",
    "state= np.random.RandomState(12345) # definimos estado aleatorio"
   ]
  },
  {
   "cell_type": "code",
   "execution_count": 12,
   "metadata": {},
   "outputs": [
    {
     "name": "stdout",
     "output_type": "stream",
     "text": [
      "<class 'pandas.core.frame.DataFrame'>\n",
      "RangeIndex: 212621 entries, 0 to 212620\n",
      "Columns: 317 entries, RegistrationYear to NotRepaired_yes\n",
      "dtypes: float64(317)\n",
      "memory usage: 514.2 MB\n"
     ]
    }
   ],
   "source": [
    "#Codificacón y escalamiento para linear regresion y arboles\n",
    "\n",
    "encoder= OneHotEncoder(sparse= False, handle_unknown= 'ignore') #Para codificar caracteristicas nominales\n",
    "scaler= StandardScaler() #Escalador\n",
    "\n",
    "feat_preohe = encoder.fit_transform(features_train[cat_cols]) #fit transform para features categoricas\n",
    "ohe_col_names = encoder.get_feature_names(cat_cols)\n",
    "feat_ohe= pd.DataFrame(feat_preohe, columns= ohe_col_names) #Recuperar nombres de columnas\n",
    "\n",
    "feat_presc= scaler.fit_transform(features_train[num_cols]) #Para escalar numericas\n",
    "feat_scaled= pd.DataFrame(feat_presc, columns= num_cols) \n",
    "\n",
    "feat_train_processed= pd.concat([feat_scaled, feat_ohe], axis= 1) #Incluimos las columnas numericas\n",
    "feat_train_processed.info()"
   ]
  },
  {
   "cell_type": "code",
   "execution_count": 13,
   "metadata": {
    "editable": true,
    "slideshow": {
     "slide_type": ""
    },
    "tags": []
   },
   "outputs": [],
   "source": [
    "#Procesamos el ds para test\n",
    "test_encoded= encoder.transform(features_test[cat_cols])\n",
    "test_encoded= pd.DataFrame(test_encoded, columns= ohe_col_names)\n",
    "\n",
    "test_scaled= scaler.transform(features_test[num_cols])\n",
    "test_scaled= pd.DataFrame(test_scaled, columns= num_cols)\n",
    "\n",
    "features_test_processed= pd.concat([test_scaled, test_encoded], axis= 1) #dataset de test preprocesado"
   ]
  },
  {
   "cell_type": "markdown",
   "metadata": {},
   "source": [
    "<div class=\"alert alert-block alert-danger\">\n",
    "<b>Comentario del revisor (1ra Iteracion)</b> <a class=“tocSkip”></a>\n",
    "\n",
    "Muy buen avance con el proyecto Ricardo! Tienes los entrenamientos de manera adecuada. Sin embargo, si revisamos la descripción del proyecto dice que a la empresa le interesa el tiempo de entrenamiento y la de velocidad de predicción que a fin de cuentas también se puede medir con el tiempo que tarde, por lo que deberías aplicar la librería `time` tanto para cuando haces `.fit()` cómo para cuando haces `.predict()`, es decir, deberías tener dos resultados en cuanto a tiempo para los modelos.\n",
    "\n",
    "Y no olvides que siempre al final de tus proyectos debes tener una sección para las conclusioens del mismo.\n",
    "   \n",
    "</div>"
   ]
  },
  {
   "cell_type": "markdown",
   "metadata": {},
   "source": [
    "<div class=\"alert alert-block alert-info\">\n",
    "<b>Hola Patricio, ya incluí la medición de los tiempos de entrenamiento y predicción para cada modelo.</b> <a class=“tocSkip”></a>\n",
    "</div>"
   ]
  },
  {
   "cell_type": "code",
   "execution_count": 24,
   "metadata": {},
   "outputs": [
    {
     "name": "stdout",
     "output_type": "stream",
     "text": [
      "RECM de Regresión Lineal: 3265.016530134586\n",
      "Validación cruzada:\n",
      "ECMs negativos: [-2.77279416e+21 -1.06477592e+07 -1.06522368e+07 -1.07146449e+07\n",
      " -1.08626839e+07]\n",
      "RECM promedio: 23549072848.37858\n",
      "Desviación estadar ECM: 1.1091176640364608e+21\n",
      "Tiempo de procesamiento fit en segundos 8.069927453994751\n",
      "Tiempo de procesamiento predict en segundos 0.09133720397949219\n"
     ]
    }
   ],
   "source": [
    "#Prueba de Regresion Lineal\n",
    "lrf_stime= time.time() #inicio de medicion de tiempo\n",
    "lmodel_fitted= LinearRegression().fit(feat_train_processed, target_train)\n",
    "lrf_etime= time.time() #fin de medición de tiempo\n",
    "\n",
    "lrp_stime= time.time()\n",
    "lpredictions= lmodel_fitted.predict(features_test_processed)\n",
    "lrp_etime= time.time()\n",
    "\n",
    "print('RECM de Regresión Lineal:', mse(target_test, lpredictions)**.5)\n",
    "\n",
    "lmodel= LinearRegression()\n",
    "lscores= cross_val_score(lmodel, feat_train_processed, target_train, cv= 5, scoring='neg_mean_squared_error')\n",
    "\n",
    "print('Validación cruzada:')\n",
    "print('ECMs negativos:', lscores)\n",
    "print('RECM promedio:', (-lscores.mean())**.5)\n",
    "print('Desviación estadar ECM:', lscores.std()) \n",
    "print('Tiempo de procesamiento fit en segundos', lrf_etime-lrf_stime)\n",
    "print('Tiempo de procesamiento predict en segundos', lrp_etime-lrp_stime)\n"
   ]
  },
  {
   "cell_type": "code",
   "execution_count": null,
   "metadata": {},
   "outputs": [
    {
     "name": "stdout",
     "output_type": "stream",
     "text": [
      "RECM de Bosque Aleatorio: 2025.0245749710007\n",
      "ECMs negativos: [-4132864.05150974 -4177466.81333694 -4126128.77945163 -4167618.95895638\n",
      " -4239794.8703681 ]\n",
      "RECM promedio: 2041.7577463363662\n",
      "Desviación estadar ECM: 40568.466535341024\n",
      "Tiempo de procesamiento fit en segundos 104.14913320541382\n",
      "Tiempo de procesamiento predict en segundos 0.3114185333251953\n"
     ]
    }
   ],
   "source": [
    "#Prueba de Bosque\n",
    "ff_stime= time.time()\n",
    "fmodel_fitted= RandomForestRegressor(random_state= state, n_estimators= 60, max_depth= 10).fit(rfeat_train_processed, target_train)\n",
    "ff_etime= time.time()\n",
    "\n",
    "fp_stime= time.time()\n",
    "fpredictions= fmodel_fitted.predict(features_test_processed)\n",
    "fp_etime= time.time()\n",
    "\n",
    "print('RECM de Bosque Aleatorio:', mse(target_test, fpredictions)**.5)\n",
    "\n",
    "fmodel= RandomForestRegressor(random_state= state, n_estimators= 60, max_depth= 10)\n",
    "fscores= cross_val_score(fmodel, feat_train_processed, target_train, cv= 5, scoring='neg_mean_squared_error') # Validamos el bosque\n",
    "\n",
    "print('ECMs negativos:', fscores)\n",
    "print('RECM promedio:', (-fscores.mean())**.5)\n",
    "print('Desviación estadar ECM:', fscores.std())\n",
    "print('Tiempo de procesamiento fit en segundos', ff_etime-ff_stime)\n",
    "print('Tiempo de procesamiento predict en segundos', fp_etime-fp_stime)"
   ]
  },
  {
   "cell_type": "code",
   "execution_count": null,
   "metadata": {},
   "outputs": [
    {
     "name": "stderr",
     "output_type": "stream",
     "text": [
      "/.venv/lib/python3.9/site-packages/lightgbm/basic.py:1780: UserWarning: Overriding the parameters from Reference Dataset.\n",
      "  _log_warning('Overriding the parameters from Reference Dataset.')\n",
      "/.venv/lib/python3.9/site-packages/lightgbm/basic.py:1513: UserWarning: categorical_column in param dict is overridden.\n",
      "  _log_warning(f'{cat_alias} in param dict is overridden.')\n"
     ]
    },
    {
     "name": "stdout",
     "output_type": "stream",
     "text": [
      "Training until validation scores don't improve for 5 rounds\n",
      "Did not meet early stopping. Best iteration is:\n",
      "[20]\tvalid_0's l2: 6.96309e+06\n",
      "EL RECM de potenciación con LightGBM es: 2638.7659714463866\n",
      "Tiempo de procesamiento fit en segundos 0.6952037811279297\n",
      "Tiempo de procesamiento predict en segundos 0.0992889404296875\n"
     ]
    }
   ],
   "source": [
    "#Prueba de potenciación con LightGBM\n",
    "gbm = lgb.LGBMRegressor(num_leaves= 31, learning_rate= .05, n_estimators=20, random_state= state)\n",
    "\n",
    "lgf_stime= time.time()\n",
    "gbm.fit(features_train, target_train, eval_set=[(features_test, target_test)],eval_metric='l2', callbacks=[lgb.early_stopping(5)])\n",
    "lgf_etime= time.time()\n",
    "\n",
    "lgp_stime= time.time()\n",
    "gbpred = gbm.predict(features_test, num_iteration= gbm.best_iteration_)\n",
    "lgp_etime= time.time()\n",
    "\n",
    "rmse_test = mse(target_test, gbpred) ** 0.5\n",
    "print(f'EL RECM de potenciación con LightGBM es: {rmse_test}')\n",
    "print('Tiempo de procesamiento fit en segundos', lgf_etime-lgf_stime)\n",
    "print('Tiempo de procesamiento predict en segundos', lgp_etime-lgp_stime)\n"
   ]
  },
  {
   "cell_type": "code",
   "execution_count": 28,
   "metadata": {},
   "outputs": [
    {
     "name": "stdout",
     "output_type": "stream",
     "text": [
      "0:\tlearn: 4366.4331535\ttotal: 72.9ms\tremaining: 10.9s\n",
      "25:\tlearn: 2487.4937859\ttotal: 1.23s\tremaining: 5.88s\n",
      "50:\tlearn: 2060.4443385\ttotal: 2.36s\tremaining: 4.59s\n",
      "75:\tlearn: 1944.6767712\ttotal: 3.52s\tremaining: 3.43s\n",
      "100:\tlearn: 1898.0312949\ttotal: 4.76s\tremaining: 2.31s\n",
      "125:\tlearn: 1865.8109330\ttotal: 6.12s\tremaining: 1.17s\n",
      "149:\tlearn: 1835.4815076\ttotal: 7.43s\tremaining: 0us\n",
      "RECM de CatBoost: 1860.2177571116863\n",
      "Tiempo de procesamiento fit en segundos 7.723387718200684\n",
      "Tiempo de procesamiento predict en segundos 0.04309701919555664\n"
     ]
    }
   ],
   "source": [
    "#Prueba con CatBoost\n",
    "gbm2= CBR(random_seed= 12345, learning_rate= .05, iterations= 150, depth= 10, verbose= 25)\n",
    "\n",
    "cbf_stime= time.time()\n",
    "gbm2.fit(features_train, target_train,cat_features= cat_cols)\n",
    "cbf_etime= time.time()\n",
    "\n",
    "cbp_stime= time.time()\n",
    "cb_pred= gbm2.predict(features_test)\n",
    "cbp_etime= time.time()\n",
    "\n",
    "print('RECM de CatBoost:', mse(target_test, cb_pred)**.5)\n",
    "print('Tiempo de procesamiento fit en segundos', cbf_etime-cbf_stime)\n",
    "print('Tiempo de procesamiento predict en segundos', cbp_etime-cbp_stime)"
   ]
  },
  {
   "cell_type": "markdown",
   "metadata": {},
   "source": [
    "## Análisis del modelo"
   ]
  },
  {
   "cell_type": "markdown",
   "metadata": {},
   "source": [
    "Los diferentes modeos tuvieron sus particularidades. La regresión lineal tuvo el mayor error y la mayor variación pero era el modelo base para comparar los demás.\n",
    "Tanto la regresión lineal como el bosque se tuvieron que procesar para poder implementarse, y el bosque tuvo una mejor puntuación o menor error que la potenciación con LightGBM. Aunque fue el modelo que más tardo y por mucho, en entrenarse y predecir.\n",
    "Pero el modelo más rápido, tuvimos el de LightGBM, pero el menor error de todos fue CatBoost, por lo que es el modelo a elegir en este caso, ya que aun que es un poco más lento que LightGBM, La diferencia en tiempo no es tanta y el error es bastante más bajo."
   ]
  },
  {
   "cell_type": "markdown",
   "metadata": {},
   "source": [
    "<div class=\"alert alert-block alert-success\">\n",
    "<b>Comentario del revisor (2da Iteracion)</b> <a class=“tocSkip”></a>\n",
    "\n",
    "Muy bien, ahora se evaluaron correctamente las métricas solicitadas, en cuanto a las métricas de desempeño de las predicciones cómo en el tiempo que toma cada una de sus etapas. El medir el tiempo es importante ya que cuando pones los modelos en producción para que puedan ser usados se suele realizar por medio de API donde se prioriza más el tiempo de predicción que la precisión cómo tal. Lo ideal es buscar siempre el balance entre buen desempeño de predicciones y de tiempo de predicción para tu modelo, sobre todo cuando va a ser usado en tiempo real.\n",
    "    \n",
    "Saludos!\n",
    "</div>"
   ]
  },
  {
   "cell_type": "markdown",
   "metadata": {},
   "source": [
    "# Lista de control"
   ]
  },
  {
   "cell_type": "markdown",
   "metadata": {},
   "source": [
    "Escribe 'x' para verificar. Luego presiona Shift+Enter"
   ]
  },
  {
   "cell_type": "markdown",
   "metadata": {},
   "source": [
    "- [x]  Jupyter Notebook está abierto\n",
    "- [x]  El código no tiene errores- [ ]  Las celdas con el código han sido colocadas en orden de ejecución- [ ]  Los datos han sido descargados y preparados- [ ]  Los modelos han sido entrenados\n",
    "- [x]  Se realizó el análisis de velocidad y calidad de los modelos"
   ]
  }
 ],
 "metadata": {
  "kernelspec": {
   "display_name": "Python 3 (ipykernel)",
   "language": "python",
   "name": "python3"
  },
  "language_info": {
   "codemirror_mode": {
    "name": "ipython",
    "version": 3
   },
   "file_extension": ".py",
   "mimetype": "text/x-python",
   "name": "python",
   "nbconvert_exporter": "python",
   "pygments_lexer": "ipython3",
   "version": "3.9.23"
  }
 },
 "nbformat": 4,
 "nbformat_minor": 4
}
